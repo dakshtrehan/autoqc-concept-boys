{
  "nbformat": 4,
  "nbformat_minor": 0,
  "metadata": {
    "kernelspec": {
      "display_name": "Python 3",
      "language": "python",
      "name": "python3"
    },
    "language_info": {
      "codemirror_mode": {
        "name": "ipython",
        "version": 3
      },
      "file_extension": ".py",
      "mimetype": "text/x-python",
      "name": "python",
      "nbconvert_exporter": "python",
      "pygments_lexer": "ipython3",
      "version": "3.7.3"
    },
    "colab": {
      "name": "QC.ipynb",
      "provenance": [],
      "collapsed_sections": []
    }
  },
  "cells": [
    {
      "cell_type": "code",
      "metadata": {
        "id": "USiobT_Y8Ufs",
        "colab_type": "code",
        "colab": {}
      },
      "source": [
        "import pandas as pd\n",
        "import numpy as np\n",
        "import string"
      ],
      "execution_count": 0,
      "outputs": []
    },
    {
      "cell_type": "code",
      "metadata": {
        "id": "EE2DVQaK8UgA",
        "colab_type": "code",
        "colab": {}
      },
      "source": [
        "filename=\"dataset_compiled1506\"\n",
        "df=pd.read_csv(filename+\".csv\")\n",
        "df.shape"
      ],
      "execution_count": 0,
      "outputs": []
    },
    {
      "cell_type": "code",
      "metadata": {
        "id": "O8miQnhz8Ugj",
        "colab_type": "code",
        "colab": {}
      },
      "source": [
        "df = df[df['numbermap'].notna()]\n",
        "df"
      ],
      "execution_count": 0,
      "outputs": []
    },
    {
      "cell_type": "code",
      "metadata": {
        "id": "prp9fEnf8Ugz",
        "colab_type": "code",
        "colab": {}
      },
      "source": [
        "exp=list(df[\"expression\"])\n",
        "sig=[eval(k) for k in list(df[\"sigDict\"])]\n",
        "numbermap=[eval(k) for k in list(df[\"numbermap\"])]\n",
        "answer=[round(float(k),2) for k in list(df[\"answer\"])]"
      ],
      "execution_count": 0,
      "outputs": []
    },
    {
      "cell_type": "code",
      "metadata": {
        "id": "Sw8NBhQC8UhO",
        "colab_type": "code",
        "colab": {}
      },
      "source": [
        "def parentheses_match(input_string):\n",
        "  s = []\n",
        "  balanced = True\n",
        "  index = 0\n",
        "  while index < len(input_string) and balanced:\n",
        "    token = input_string[index]\n",
        "    if token == \"(\":\n",
        "      s.append(token)\n",
        "    elif token == \")\":\n",
        "      if len(s) == 0:\n",
        "        balanced = False\n",
        "      else:\n",
        "        s.pop()\n",
        "    index += 1\n",
        "  return balanced and len(s) == 0"
      ],
      "execution_count": 0,
      "outputs": []
    },
    {
      "cell_type": "code",
      "metadata": {
        "id": "UWQHiFkO8UhA",
        "colab_type": "code",
        "colab": {}
      },
      "source": [
        "#Check Exp from Sig\n",
        "level1=[]\n",
        "print(\"Level 1\")\n",
        "print(\"=================================================\")\n",
        "for p,i in enumerate(sig):\n",
        "  flag=True\n",
        "  for key in i.keys():\n",
        "    if i[key]:\n",
        "      if exp[p].find(key)==-1:\n",
        "        flag=False\n",
        "        break\n",
        "    else:\n",
        "      if exp[p].find(key)!=-1:\n",
        "        break\n",
        "  level1.append(flag)\n",
        "print(\"=================================================\\n\\n\")\n",
        "\n",
        "df[\"Level 1\"]=level1\n"
      ],
      "execution_count": 0,
      "outputs": []
    },
    {
      "cell_type": "code",
      "metadata": {
        "id": "vsfzik-VyfXd",
        "colab_type": "code",
        "colab": {}
      },
      "source": [
        "#Check Sig From Exp\n",
        "level2=[]\n",
        "print(\"Level 2\")\n",
        "print(\"=================================================\")\n",
        "for i in range(len(exp)):\n",
        "  flag=True\n",
        "  texp=exp[i]\n",
        "  tsig=sig[i]\n",
        "  truesig=[ x for x in tsig if tsig[x]]\n",
        "  for ch in texp:\n",
        "    if ch in string.ascii_uppercase:\n",
        "      if not ch in truesig:\n",
        "        flag=False\n",
        "        print(texp,tsig)\n",
        "        break  \n",
        "  level2.append(flag)\n",
        "print(\"=================================================\\n\\n\")\n",
        "\n",
        "df[\"Level 2\"]=level2"
      ],
      "execution_count": 0,
      "outputs": []
    },
    {
      "cell_type": "code",
      "metadata": {
        "id": "GW1jAqDeyiFA",
        "colab_type": "code",
        "colab": {}
      },
      "source": [
        "#Check Brackets\n",
        "level3=[]\n",
        "print(\"Level 3\")\n",
        "print(\"=================================================\")\n",
        "for i in range(len(exp)):\n",
        "  flag=parentheses_match(exp[i])\n",
        "  if not flag:\n",
        "      print(exp[i],sig[i])\n",
        "  level3.append(flag)\n",
        "print(\"=================================================\\n\\n\")\n",
        "\n",
        "df[\"Level 3\"]=level3"
      ],
      "execution_count": 0,
      "outputs": []
    },
    {
      "cell_type": "code",
      "metadata": {
        "id": "dzbYQQKaymA-",
        "colab_type": "code",
        "colab": {}
      },
      "source": [
        "#Check Answer\n",
        "level4=[]\n",
        "print(\"Level 4\")\n",
        "print(\"=================================================\")\n",
        "for i in range(len(numbermap)):\n",
        "  flag=False\n",
        "  print (\"\\n\\nTry: \",i)\n",
        "  try:\n",
        "    if not (level1[i] and level2[i] and level3[i]):\n",
        "      raise ValueError(\"Previous Test Was Failed.\")\n",
        "    nummap=numbermap[i]\n",
        "    nummap.update({\"^\":\"**\"})\n",
        "    cexp=exp[i]\n",
        "    ans=answer[i]\n",
        "    for key in nummap:\n",
        "      cexp = cexp.replace(key,nummap[key])\n",
        "    assert eval(cexp)==ans\n",
        "    flag=True\n",
        "    print(\"Valid: \"+str(eval(cexp))+\"  \"+str(ans))\n",
        "  except ValueError as e:\n",
        "    print(e)\n",
        "    flag=False\n",
        "  except:\n",
        "    print(\"Invalid: \"+cexp+\"  \"+str(ans))\n",
        "    flag=False\n",
        "  finally:\n",
        "    level4.append(flag)\n",
        "print(\"=================================================\\n\\n\")\n",
        "df[\"Level 4\"]=level4\n"
      ],
      "execution_count": 0,
      "outputs": []
    },
    {
      "cell_type": "code",
      "metadata": {
        "id": "qexPg7d08Uhb",
        "colab_type": "code",
        "colab": {}
      },
      "source": [
        "df.to_csv(filename+\"_qc.csv\")"
      ],
      "execution_count": 0,
      "outputs": []
    }
  ]
}